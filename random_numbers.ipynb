{
 "cells": [
  {
   "cell_type": "code",
   "execution_count": 1,
   "id": "6b241d42-a6d9-4af2-9020-449bcf117b66",
   "metadata": {},
   "outputs": [],
   "source": [
    "#Import the random module\n",
    "import random"
   ]
  },
  {
   "cell_type": "code",
   "execution_count": 2,
   "id": "59f7a588-eb08-4398-aac5-a0cfd8f14a13",
   "metadata": {},
   "outputs": [
    {
     "data": {
      "text/plain": [
       "71"
      ]
     },
     "execution_count": 2,
     "metadata": {},
     "output_type": "execute_result"
    }
   ],
   "source": [
    "random.randint(-90,90)"
   ]
  },
  {
   "cell_type": "code",
   "execution_count": 3,
   "id": "b20c2301-aee2-4c54-9cea-824bcc486b3f",
   "metadata": {},
   "outputs": [
    {
     "data": {
      "text/plain": [
       "0.6024586067861296"
      ]
     },
     "execution_count": 3,
     "metadata": {},
     "output_type": "execute_result"
    }
   ],
   "source": [
    "random.random()"
   ]
  },
  {
   "cell_type": "code",
   "execution_count": 4,
   "id": "79b92568-4b1e-4eeb-8cf6-979970250343",
   "metadata": {},
   "outputs": [],
   "source": [
    "#Import Numpy module\n",
    "import numpy as np"
   ]
  },
  {
   "cell_type": "code",
   "execution_count": 5,
   "id": "880f64fa-9a24-4287-8cb2-e3332fa90374",
   "metadata": {},
   "outputs": [
    {
     "data": {
      "text/plain": [
       "array([-57.06198579, -71.15278603, -44.57360809, -33.56255369,\n",
       "       -15.25379509,  50.00491136,  46.69998949, -88.38024452,\n",
       "       -69.03214975, -64.40757193,  39.01182352, -28.39486682,\n",
       "        72.94903993, -50.91471319, -12.84961658,  67.88992173,\n",
       "       -77.08795893,  66.67227565,  61.7508274 ,  -2.89448707,\n",
       "        -9.03861248,  -4.18530817, -15.78130771, -56.53996536,\n",
       "        51.10442945,  20.20374816, -57.02329484,  45.61818981,\n",
       "       -50.79612016,   8.04088926,  43.16039975,  32.96866854,\n",
       "        83.48766753, -45.03372456,  81.77770812,  17.76144069,\n",
       "       -35.10422973,  15.91936538,  37.44371752, -44.84038954,\n",
       "       -42.01884638, -34.59378616, -84.31329397,  77.49653079,\n",
       "       -76.36155794, -23.55963044,  -9.26883124,   1.5343283 ,\n",
       "       -14.80085169, -88.35033498])"
      ]
     },
     "execution_count": 5,
     "metadata": {},
     "output_type": "execute_result"
    }
   ],
   "source": [
    "np.random.uniform(-90.000, 90.000, size=50)"
   ]
  },
  {
   "cell_type": "code",
   "execution_count": 6,
   "id": "7fb9ecdd-e69d-4cec-b321-1f1e4141596c",
   "metadata": {},
   "outputs": [],
   "source": [
    "# Import timeit\n",
    "import timeit"
   ]
  },
  {
   "cell_type": "code",
   "execution_count": 7,
   "id": "144760d1-3749-4190-9269-2725ec4218eb",
   "metadata": {},
   "outputs": [
    {
     "name": "stdout",
     "output_type": "stream",
     "text": [
      "10.8 µs ± 283 ns per loop (mean ± std. dev. of 7 runs, 100000 loops each)\n"
     ]
    }
   ],
   "source": [
    "#time how long it takes to create a sample of 1500 using the criteria above\n",
    "%timeit np.random.uniform(-90.000, 90.00, size=1500)"
   ]
  },
  {
   "cell_type": "code",
   "execution_count": 10,
   "id": "46ea504b-059a-47dc-b190-5e2819c6f359",
   "metadata": {},
   "outputs": [
    {
     "name": "stdout",
     "output_type": "stream",
     "text": [
      "1.34 ms ± 28.3 µs per loop (mean ± std. dev. of 7 runs, 1000 loops each)\n"
     ]
    }
   ],
   "source": [
    "def latitudes(size):\n",
    "    latitudes=[]\n",
    "    x=0\n",
    "    while x<(size):\n",
    "        random_lat=random.randint(-90,90)+random.random()\n",
    "        latitudes.append(random_lat)\n",
    "        x+=1\n",
    "    return latitudes\n",
    "#Call the function with 1500\n",
    "%timeit latitudes(1500)"
   ]
  },
  {
   "cell_type": "code",
   "execution_count": null,
   "id": "100de293-35d2-45d0-91d3-e990c099d258",
   "metadata": {},
   "outputs": [],
   "source": []
  }
 ],
 "metadata": {
  "kernelspec": {
   "display_name": "PythonData",
   "language": "python",
   "name": "pythondata"
  },
  "language_info": {
   "codemirror_mode": {
    "name": "ipython",
    "version": 3
   },
   "file_extension": ".py",
   "mimetype": "text/x-python",
   "name": "python",
   "nbconvert_exporter": "python",
   "pygments_lexer": "ipython3",
   "version": "3.7.13"
  }
 },
 "nbformat": 4,
 "nbformat_minor": 5
}
