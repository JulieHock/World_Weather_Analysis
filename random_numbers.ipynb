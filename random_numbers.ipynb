{
 "cells": [
  {
   "cell_type": "code",
   "execution_count": 11,
   "id": "6b241d42-a6d9-4af2-9020-449bcf117b66",
   "metadata": {},
   "outputs": [],
   "source": [
    "#Import the random module\n",
    "import random"
   ]
  },
  {
   "cell_type": "code",
   "execution_count": 12,
   "id": "59f7a588-eb08-4398-aac5-a0cfd8f14a13",
   "metadata": {},
   "outputs": [
    {
     "data": {
      "text/plain": [
       "-22"
      ]
     },
     "execution_count": 12,
     "metadata": {},
     "output_type": "execute_result"
    }
   ],
   "source": [
    "random.randint(-90,90)"
   ]
  },
  {
   "cell_type": "code",
   "execution_count": 13,
   "id": "b20c2301-aee2-4c54-9cea-824bcc486b3f",
   "metadata": {},
   "outputs": [
    {
     "data": {
      "text/plain": [
       "0.2532614974840621"
      ]
     },
     "execution_count": 13,
     "metadata": {},
     "output_type": "execute_result"
    }
   ],
   "source": [
    "random.random()"
   ]
  },
  {
   "cell_type": "code",
   "execution_count": 14,
   "id": "79b92568-4b1e-4eeb-8cf6-979970250343",
   "metadata": {},
   "outputs": [],
   "source": [
    "#Import Numpy module\n",
    "import numpy as np"
   ]
  },
  {
   "cell_type": "code",
   "execution_count": 15,
   "id": "880f64fa-9a24-4287-8cb2-e3332fa90374",
   "metadata": {},
   "outputs": [
    {
     "data": {
      "text/plain": [
       "array([-21.37865148,  59.0714591 ,  71.01757234,   6.88831477,\n",
       "        27.95422997,  73.8471989 ,  33.73593807,  71.25295439,\n",
       "       -51.93461378, -70.35707567,  -2.76409541,  26.67805946,\n",
       "       -28.8743498 , -68.57043312,  20.80799398, -61.95852434,\n",
       "        76.81731792, -62.17666807,  62.30771487, -27.1068598 ,\n",
       "        45.73630718,  67.31972854,  40.82010804, -73.63774133,\n",
       "        44.36850604, -28.40044085, -20.61654955,  55.04328136,\n",
       "        82.92526435,  15.83134507,  14.94248233,  82.87498856,\n",
       "        -7.85111214, -59.51796399, -58.29435271, -22.34694525,\n",
       "       -88.51760764,   8.65244618,  55.07738951, -55.08911104,\n",
       "       -67.23083231,  43.54342822, -20.7180984 ,  80.79258648,\n",
       "       -85.82443014, -40.3938161 , -39.91643932,   1.63312954,\n",
       "       -38.86106435, -39.02133203])"
      ]
     },
     "execution_count": 15,
     "metadata": {},
     "output_type": "execute_result"
    }
   ],
   "source": [
    "np.random.uniform(-90.000, 90.000, size=50)"
   ]
  },
  {
   "cell_type": "code",
   "execution_count": 16,
   "id": "7fb9ecdd-e69d-4cec-b321-1f1e4141596c",
   "metadata": {},
   "outputs": [],
   "source": [
    "# Import timeit\n",
    "import timeit"
   ]
  },
  {
   "cell_type": "code",
   "execution_count": 17,
   "id": "144760d1-3749-4190-9269-2725ec4218eb",
   "metadata": {},
   "outputs": [
    {
     "name": "stdout",
     "output_type": "stream",
     "text": [
      "11 µs ± 140 ns per loop (mean ± std. dev. of 7 runs, 100000 loops each)\n"
     ]
    }
   ],
   "source": [
    "#time how long it takes to create a sample of 1500 using the criteria above\n",
    "%timeit np.random.uniform(-90.000, 90.00, size=1500)"
   ]
  },
  {
   "cell_type": "code",
   "execution_count": 18,
   "id": "46ea504b-059a-47dc-b190-5e2819c6f359",
   "metadata": {},
   "outputs": [
    {
     "name": "stdout",
     "output_type": "stream",
     "text": [
      "1.3 ms ± 25.4 µs per loop (mean ± std. dev. of 7 runs, 1000 loops each)\n"
     ]
    }
   ],
   "source": [
    "def latitudes(size):\n",
    "    latitudes=[]\n",
    "    x=0\n",
    "    while x<(size):\n",
    "        random_lat=random.randint(-90,90)+random.random()\n",
    "        latitudes.append(random_lat)\n",
    "        x+=1\n",
    "    return latitudes\n",
    "#Call the function with 1500\n",
    "%timeit latitudes(1500)"
   ]
  },
  {
   "cell_type": "code",
   "execution_count": 19,
   "id": "100de293-35d2-45d0-91d3-e990c099d258",
   "metadata": {},
   "outputs": [],
   "source": [
    "#Import Linear regression from the SciPy Stats module\n",
    "from scipy.stats import linregress"
   ]
  },
  {
   "cell_type": "code",
   "execution_count": 20,
   "id": "34f31dc9-7926-4b1b-9bcb-1e791ec83abf",
   "metadata": {},
   "outputs": [],
   "source": [
    "# Create an equal number of latitudes and temperatures\n",
    "lats=[42.5,43.9,8.1,36.8,79.9,69.1,25.7,15.3,12.7,64.5]\n",
    "temps=[80.5,75.3,90.9,90.0,40.4,62.3,85.4,79.6,72.5,72.0]"
   ]
  },
  {
   "cell_type": "code",
   "execution_count": 22,
   "id": "ecf54cd3-05d5-46d8-a0f5-82a5e378d9e0",
   "metadata": {},
   "outputs": [
    {
     "name": "stdout",
     "output_type": "stream",
     "text": [
      "y = -0.45x + 92.94\n",
      "The p-value is: 0.011\n"
     ]
    }
   ],
   "source": [
    "#Perform Linear regression\n",
    "(slope, intercept, r_value,p_value, std_err)=linregress(lats, temps)\n",
    "\n",
    "#Get the equation of the line\n",
    "line_eq=\"y = \"+str(round(slope,2))+\"x + \" + str(round(intercept,2))\n",
    "print(line_eq)\n",
    "print(f\"The p-value is: {p_value:.3f}\")"
   ]
  },
  {
   "cell_type": "code",
   "execution_count": 23,
   "id": "81edd6c1-b287-41f3-ad49-6da7e5e0f86a",
   "metadata": {},
   "outputs": [],
   "source": [
    "#Calculate the regression line \"y Values\" from the slope and intercept\n",
    "regress_values=[(lat*slope+intercept)for lat in lats]"
   ]
  },
  {
   "cell_type": "code",
   "execution_count": 24,
   "id": "ed39dea7-7b72-4a5c-9a38-8bf4af81b333",
   "metadata": {},
   "outputs": [
    {
     "data": {
      "image/png": "[encoded data removed]",
      "text/plain": [
       "<Figure size 432x288 with 1 Axes>"
      ]
     },
     "metadata": {
      "needs_background": "light"
     },
     "output_type": "display_data"
    }
   ],
   "source": [
    "#Import Matplotlib\n",
    "import matplotlib.pyplot as plt\n",
    "#Create a scatterplot of the x and y values\n",
    "plt.scatter(lats,temps)\n",
    "#Plot the regression line with the x-values and the y coordinates based on the intercept and slope\n",
    "plt.plot(lats, regress_values, \"r\")\n",
    "#anotate the text for teh line equation and add its coordinates\n",
    "plt.annotate(line_eq, (10,40), fontsize=15, color=\"red\")\n",
    "plt.xlabel(\"Latitude\")\n",
    "plt.ylabel(\"Tmep\")\n",
    "plt.show()"
   ]
  },
  {
   "cell_type": "code",
   "execution_count": null,
   "id": "a755e434-47a9-4caa-8962-797c8e9f9eac",
   "metadata": {},
   "outputs": [],
   "source": []
  }
 ],
 "metadata": {
  "kernelspec": {
   "display_name": "PythonData",
   "language": "python",
   "name": "pythondata"
  },
  "language_info": {
   "codemirror_mode": {
    "name": "ipython",
    "version": 3
   },
   "file_extension": ".py",
   "mimetype": "text/x-python",
   "name": "python",
   "nbconvert_exporter": "python",
   "pygments_lexer": "ipython3",
   "version": "3.7.13"
  }
 },
 "nbformat": 4,
 "nbformat_minor": 5
}
